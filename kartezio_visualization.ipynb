{
 "cells": [
  {
   "cell_type": "code",
   "execution_count": 7,
   "metadata": {},
   "outputs": [],
   "source": [
    "from pathlib import Path\n",
    "import pandas as pd\n",
    "from PIL import Image\n",
    "import numpy as np\n",
    "\n",
    "base_path = Path('/data/elliot/test_pipeline/')\n",
    "\n",
    "df = pd.read_csv(base_path / \"dataset.csv\")"
   ]
  },
  {
   "cell_type": "code",
   "execution_count": 2,
   "metadata": {},
   "outputs": [],
   "source": [
    "def extract_output_number(df):\n",
    "    testing_df = df[df['set'] == 'testing']\n",
    "    input_values = testing_df[\"input\"]\n",
    "    list_inputs = input_values.tolist()\n",
    "    list_tuple_inputs = []\n",
    "    for inp in list_inputs:\n",
    "        split = inp.split(\"/\")\n",
    "        patch_number = split[1]\n",
    "        slide_id = split[0]\n",
    "        list_tuple_inputs.append((slide_id, patch_number))\n",
    "    return list_tuple_inputs"
   ]
  },
  {
   "cell_type": "code",
   "execution_count": 3,
   "metadata": {},
   "outputs": [],
   "source": [
    "list_tuple_inputs = extract_output_number(df)"
   ]
  },
  {
   "cell_type": "code",
   "execution_count": 4,
   "metadata": {},
   "outputs": [
    {
     "name": "stderr",
     "output_type": "stream",
     "text": [
      "/data/apps/conda/elliot/envs/apriorics/lib/python3.9/site-packages/tqdm/auto.py:21: TqdmWarning: IProgress not found. Please update jupyter and ipywidgets. See https://ipywidgets.readthedocs.io/en/stable/user_install.html\n",
      "  from .autonotebook import tqdm as notebook_tqdm\n",
      "/data/apps/conda/elliot/envs/apriorics/lib/python3.9/site-packages/scipy/__init__.py:146: UserWarning: A NumPy version >=1.17.3 and <1.25.0 is required for this version of SciPy (detected version 1.26.4\n",
      "  warnings.warn(f\"A NumPy version >={np_minversion} and <{np_maxversion}\"\n"
     ]
    }
   ],
   "source": [
    "from ihc_mask_registration import format_annotation\n",
    "from masking import get_annotations, draw_polygons"
   ]
  },
  {
   "cell_type": "code",
   "execution_count": 5,
   "metadata": {},
   "outputs": [
    {
     "name": "stdout",
     "output_type": "stream",
     "text": [
      "\n",
      "\n",
      "\n",
      "\n",
      "\n"
     ]
    }
   ],
   "source": [
    "from config_kartezio import (\n",
    "    BASE_PATH,\n",
    "    ANNOTATION_PATH,\n",
    "    SLIDE_LIST,\n",
    "    SLIDE_TO_PATH,\n",
    "    SLIDE_FOLDER,\n",
    "    IHC_FOLDER,\n",
    "    HOVERNET_FOLDER,\n",
    "    SLIDE_TO_PID_HOVERNET\n",
    ")\n",
    "\n",
    "import geopandas as gpd\n",
    "\n",
    "dic_annotations = {}\n",
    "for slide_number in SLIDE_LIST:\n",
    "    print()\n",
    "    geo_df = gpd.read_file(ANNOTATION_PATH / f\"{SLIDE_TO_PATH[slide_number]}.geojson\")\n",
    "    mitosis_area_dfs = format_annotation(geo_df)\n",
    "    for idx, df in enumerate(mitosis_area_dfs):\n",
    "        dic_annotations[(SLIDE_TO_PATH[slide_number], str(idx))] = get_annotations(df)\n"
   ]
  },
  {
   "cell_type": "code",
   "execution_count": 6,
   "metadata": {},
   "outputs": [
    {
     "ename": "NameError",
     "evalue": "name 'Image' is not defined",
     "output_type": "error",
     "traceback": [
      "\u001b[0;31m---------------------------------------------------------------------------\u001b[0m",
      "\u001b[0;31mNameError\u001b[0m                                 Traceback (most recent call last)",
      "Cell \u001b[0;32mIn[6], line 2\u001b[0m\n\u001b[1;32m      1\u001b[0m \u001b[38;5;28;01mfor\u001b[39;00m idx, (slide_id, patch_id) \u001b[38;5;129;01min\u001b[39;00m \u001b[38;5;28menumerate\u001b[39m(list_tuple_inputs):\n\u001b[0;32m----> 2\u001b[0m     img \u001b[38;5;241m=\u001b[39m \u001b[43mImage\u001b[49m\u001b[38;5;241m.\u001b[39mopen(\u001b[38;5;124mf\u001b[39m\u001b[38;5;124m\"\u001b[39m\u001b[38;5;124m./output_kartezio_double/output_test_\u001b[39m\u001b[38;5;132;01m{\u001b[39;00midx\u001b[38;5;132;01m}\u001b[39;00m\u001b[38;5;124m.png\u001b[39m\u001b[38;5;124m\"\u001b[39m)\u001b[38;5;241m.\u001b[39mconvert(\u001b[38;5;124m\"\u001b[39m\u001b[38;5;124mRGB\u001b[39m\u001b[38;5;124m\"\u001b[39m)\n\u001b[1;32m      3\u001b[0m     img_array \u001b[38;5;241m=\u001b[39m np\u001b[38;5;241m.\u001b[39masarray(img)\n\u001b[1;32m      4\u001b[0m     draw_polygons(ihc_array, dic_annotations[(slide_id, patch_id)][\u001b[38;5;124m'\u001b[39m\u001b[38;5;124mannotations\u001b[39m\u001b[38;5;124m'\u001b[39m])\n",
      "\u001b[0;31mNameError\u001b[0m: name 'Image' is not defined"
     ]
    }
   ],
   "source": [
    "for idx, (slide_id, patch_id) in enumerate(list_tuple_inputs):\n",
    "    img = Image.open(f\"./output_kartezio_double/output_test_{idx}.png\").convert(\"RGB\")\n",
    "    img_array = np.asarray(img)\n",
    "    draw_polygons(img_array, dic_annotations[(slide_id, patch_id)]['annotations'])\n"
   ]
  },
  {
   "cell_type": "code",
   "execution_count": null,
   "metadata": {},
   "outputs": [],
   "source": []
  }
 ],
 "metadata": {
  "kernelspec": {
   "display_name": "apriorics",
   "language": "python",
   "name": "python3"
  },
  "language_info": {
   "codemirror_mode": {
    "name": "ipython",
    "version": 3
   },
   "file_extension": ".py",
   "mimetype": "text/x-python",
   "name": "python",
   "nbconvert_exporter": "python",
   "pygments_lexer": "ipython3",
   "version": "3.9.18"
  }
 },
 "nbformat": 4,
 "nbformat_minor": 2
}
